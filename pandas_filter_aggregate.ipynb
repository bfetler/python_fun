{
 "cells": [
  {
   "cell_type": "markdown",
   "metadata": {},
   "source": [
    "For Pandas reference, see the [Python Pandas website](http://pandas.pydata.org/) and book *'Python for Data Analysis'* by Wes McKinney."
   ]
  },
  {
   "cell_type": "code",
   "execution_count": 1,
   "metadata": {
    "collapsed": true
   },
   "outputs": [],
   "source": [
    "import pandas as pd\n",
    "import numpy as np"
   ]
  },
  {
   "cell_type": "markdown",
   "metadata": {},
   "source": [
    "*Question:* How do I filter and aggregate rows in a pandas dataframe?"
   ]
  },
  {
   "cell_type": "code",
   "execution_count": 2,
   "metadata": {
    "collapsed": true
   },
   "outputs": [],
   "source": [
    "def get_product_df():\n",
    "    \"get product dataframe\"\n",
    "    df = pd.DataFrame([['Dove', 18.2, 30, '2017-05-01'], ['Dove', 23.2, 40, '2017-06-01'],\n",
    "            ['Dove', 21.4, 32, '2017-06-03'], ['Spam', 7.2, 20, '2017-06-11']])\n",
    "    df.columns = ['Name', 'Price', 'Shares', 'Date']\n",
    "    return df"
   ]
  },
  {
   "cell_type": "code",
   "execution_count": 3,
   "metadata": {
    "collapsed": false
   },
   "outputs": [
    {
     "name": "stdout",
     "output_type": "stream",
     "text": [
      "   Name  Price  Shares        Date\n",
      "0  Dove   18.2      30  2017-05-01\n",
      "1  Dove   23.2      40  2017-06-01\n",
      "2  Dove   21.4      32  2017-06-03\n",
      "3  Spam    7.2      20  2017-06-11\n"
     ]
    }
   ],
   "source": [
    "df = get_product_df()  # get original dataframe\n",
    "print(df)"
   ]
  },
  {
   "cell_type": "code",
   "execution_count": 4,
   "metadata": {
    "collapsed": false
   },
   "outputs": [
    {
     "name": "stdout",
     "output_type": "stream",
     "text": [
      "   Name  Price  Shares        Date   Cost\n",
      "1  Dove   23.2      40  2017-06-01  928.0\n",
      "2  Dove   21.4      32  2017-06-03  684.8\n",
      "3  Spam    7.2      20  2017-06-11  144.0\n"
     ]
    }
   ],
   "source": [
    "df = df[df['Date'] > '2017-05-31']       # filter by Date\n",
    "df['Cost'] = df['Price'] * df['Shares']  # compute Cost, set into new column\n",
    "print(df)"
   ]
  },
  {
   "cell_type": "code",
   "execution_count": 5,
   "metadata": {
    "collapsed": false
   },
   "outputs": [
    {
     "name": "stdout",
     "output_type": "stream",
     "text": [
      "      Shares    Cost\n",
      "Name                \n",
      "Dove      72  1612.8\n",
      "Spam      20   144.0\n"
     ]
    }
   ],
   "source": [
    "df2 = df.groupby('Name').agg(np.sum)    # group by Name and apply sum aggregate function\n",
    "df2 = df2[['Shares', 'Cost']]       # filter out Price column, get total Shares and Cost\n",
    "print(df2)"
   ]
  },
  {
   "cell_type": "markdown",
   "metadata": {},
   "source": [
    "See [Pandas groupby docs](https://pandas.pydata.org/pandas-docs/stable/groupby.html) for more details."
   ]
  },
  {
   "cell_type": "code",
   "execution_count": null,
   "metadata": {
    "collapsed": true
   },
   "outputs": [],
   "source": []
  }
 ],
 "metadata": {
  "kernelspec": {
   "display_name": "Python 3",
   "language": "python",
   "name": "python3"
  },
  "language_info": {
   "codemirror_mode": {
    "name": "ipython",
    "version": 3
   },
   "file_extension": ".py",
   "mimetype": "text/x-python",
   "name": "python",
   "nbconvert_exporter": "python",
   "pygments_lexer": "ipython3",
   "version": "3.5.2"
  }
 },
 "nbformat": 4,
 "nbformat_minor": 0
}
