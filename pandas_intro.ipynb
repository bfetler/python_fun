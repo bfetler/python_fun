{
 "cells": [
  {
   "cell_type": "markdown",
   "metadata": {},
   "source": [
    "A brief introduction to Pandas.  \n",
    "\n",
    "For reference, see the [Pandas website](http://pandas.pydata.org/) and the book *'Python for Data Analysis'* by Wes McKinney."
   ]
  },
  {
   "cell_type": "code",
   "execution_count": 1,
   "metadata": {
    "collapsed": true
   },
   "outputs": [],
   "source": [
    "import pandas as pd\n",
    "import numpy as np"
   ]
  },
  {
   "cell_type": "markdown",
   "metadata": {},
   "source": [
    "##### *Question:* What is a dataframe?\n",
    "\n",
    "In the Pandas Python library, a Dataframe is a class for storing rows and columns of data.  It is similar to a spreadsheet or SQL table, except that it is stored in memory as the Python script runs.  With Pandas, you can do the same spreadsheet operations over and over again in a script.  \n",
    "\n",
    "A Dataframe object may be created by reading input from a csv file, SQL table, or other table-like objects.\n",
    "\n",
    "Below is an example of creating a dataframe from a Python list."
   ]
  },
  {
   "cell_type": "code",
   "execution_count": 2,
   "metadata": {
    "collapsed": true
   },
   "outputs": [],
   "source": [
    "def get_product_df():\n",
    "    \"get product dataframe\"\n",
    "    df = pd.DataFrame([['Dove', 18.2, 30, '2017-04-16'], \n",
    "                       ['Dove', 23.5, 40, '2017-05-03'],\n",
    "                       ['Spam', 7.2, 20, '2017-05-07'],\n",
    "                       ['Dove', 21.4, 32, '2017-05-11'], \n",
    "                       ['Spam', 7.6, 24, '2017-06-08']\n",
    "                      ])\n",
    "    df.columns = ['Name', 'Price', 'Shares', 'Date']\n",
    "    return df"
   ]
  },
  {
   "cell_type": "code",
   "execution_count": 3,
   "metadata": {
    "collapsed": false
   },
   "outputs": [
    {
     "name": "stdout",
     "output_type": "stream",
     "text": [
      "   Name  Price  Shares        Date\n",
      "0  Dove   18.2      30  2017-04-16\n",
      "1  Dove   23.5      40  2017-05-03\n",
      "2  Spam    7.2      20  2017-05-07\n",
      "3  Dove   21.4      32  2017-05-11\n",
      "4  Spam    7.6      24  2017-06-08\n"
     ]
    }
   ],
   "source": [
    "df = get_product_df()  # get dataframe\n",
    "print(df)"
   ]
  },
  {
   "cell_type": "markdown",
   "metadata": {},
   "source": [
    "##### *Question:* What is a lambda?  \n",
    "\n",
    "In practice, a lambda is an anonymous method or function.  This means it has no name.  \n",
    "\n",
    "You can define a lambda on-the-fly in Python to do the same thing as a method, and use it anywhere in code where a method can be used.   \n",
    "\n",
    "Below are some examples."
   ]
  },
  {
   "cell_type": "code",
   "execution_count": 4,
   "metadata": {
    "collapsed": false
   },
   "outputs": [
    {
     "name": "stdout",
     "output_type": "stream",
     "text": [
      "   Name  Price  Shares        Date  DoublePrice\n",
      "0  Dove   18.2      30  2017-04-16         36.4\n",
      "1  Dove   23.5      40  2017-05-03         47.0\n",
      "2  Spam    7.2      20  2017-05-07         14.4\n",
      "3  Dove   21.4      32  2017-05-11         42.8\n",
      "4  Spam    7.6      24  2017-06-08         15.2\n"
     ]
    }
   ],
   "source": [
    "def multBy2(x):         # define a method\n",
    "    return x * 2\n",
    "\n",
    "df['DoublePrice'] = df['Price'].apply(multBy2)\n",
    "print(df)"
   ]
  },
  {
   "cell_type": "code",
   "execution_count": 5,
   "metadata": {
    "collapsed": false
   },
   "outputs": [
    {
     "name": "stdout",
     "output_type": "stream",
     "text": [
      "   Name  Price  Shares        Date  DoublePrice\n",
      "0  Dove   18.2      30  2017-04-16         36.4\n",
      "1  Dove   23.5      40  2017-05-03         47.0\n",
      "2  Spam    7.2      20  2017-05-07         14.4\n",
      "3  Dove   21.4      32  2017-05-11         42.8\n",
      "4  Spam    7.6      24  2017-06-08         15.2\n"
     ]
    }
   ],
   "source": [
    "df['DoublePrice'] = df['Price'].apply(lambda x: x * 2)   # apply anonymous lambda\n",
    "print(df)"
   ]
  },
  {
   "cell_type": "code",
   "execution_count": 6,
   "metadata": {
    "collapsed": false
   },
   "outputs": [
    {
     "name": "stdout",
     "output_type": "stream",
     "text": [
      "   Name  Price  Shares        Date  DoublePrice\n",
      "0  Dove   18.2      30  2017-04-16         36.4\n",
      "1  Dove   23.5      40  2017-05-03         47.0\n",
      "2  Spam    7.2      20  2017-05-07         14.4\n",
      "3  Dove   21.4      32  2017-05-11         42.8\n",
      "4  Spam    7.6      24  2017-06-08         15.2\n"
     ]
    }
   ],
   "source": [
    "by2 = lambda x: x * 2    # you can save a lambda in a variable name - not common\n",
    "df['DoublePrice'] = df['Price'].apply(by2)\n",
    "print(df)"
   ]
  },
  {
   "cell_type": "code",
   "execution_count": 7,
   "metadata": {
    "collapsed": false
   },
   "outputs": [
    {
     "name": "stdout",
     "output_type": "stream",
     "text": [
      "   Name  Price  Shares        Date  DoublePrice\n",
      "0  Dove   18.2      30  2017-04-16         36.4\n",
      "1  Dove   23.5      40  2017-05-03         47.0\n",
      "2  Spam    7.2      20  2017-05-07         14.4\n",
      "3  Dove   21.4      32  2017-05-11         42.8\n",
      "4  Spam    7.6      24  2017-06-08         15.2\n"
     ]
    }
   ],
   "source": [
    "df['DoublePrice'] = df['Price'] * 2     # in simple cases you don't even need a lambda\n",
    "print(df)                               # if it's all numpy array math operations"
   ]
  },
  {
   "cell_type": "code",
   "execution_count": 8,
   "metadata": {
    "collapsed": false
   },
   "outputs": [
    {
     "name": "stdout",
     "output_type": "stream",
     "text": [
      "   Name  Price  Shares        Date  DoublePrice  Bonus\n",
      "0  Dove   18.2      30  2017-04-16         36.4    0.0\n",
      "1  Dove   23.5      40  2017-05-03         47.0   47.0\n",
      "2  Spam    7.2      20  2017-05-07         14.4    0.0\n",
      "3  Dove   21.4      32  2017-05-11         42.8   42.8\n",
      "4  Spam    7.6      24  2017-06-08         15.2    0.0\n"
     ]
    }
   ],
   "source": [
    "df['Bonus'] = df['Price'].apply(lambda x: x * 2 if x > 20 else 0)  # more complex lambda\n",
    "print(df)"
   ]
  },
  {
   "cell_type": "markdown",
   "metadata": {},
   "source": [
    "##### *Question:* How do I filter and aggregate rows in a pandas dataframe?"
   ]
  },
  {
   "cell_type": "code",
   "execution_count": 9,
   "metadata": {
    "collapsed": false
   },
   "outputs": [
    {
     "name": "stdout",
     "output_type": "stream",
     "text": [
      "   Name  Price  Shares        Date  Profit\n",
      "1  Dove   23.5      40  2017-05-03   940.0\n",
      "2  Spam    7.2      20  2017-05-07   144.0\n",
      "3  Dove   21.4      32  2017-05-11   684.8\n",
      "4  Spam    7.6      24  2017-06-08   182.4\n"
     ]
    }
   ],
   "source": [
    "df = get_product_df()                      # get dataframe\n",
    "df = df[df['Date'] > '2017-05-01']         # filter by Date\n",
    "df['Profit'] = df['Price'] * df['Shares']  # compute Profit, set into new column\n",
    "print(df)"
   ]
  },
  {
   "cell_type": "code",
   "execution_count": 10,
   "metadata": {
    "collapsed": false
   },
   "outputs": [
    {
     "name": "stdout",
     "output_type": "stream",
     "text": [
      "   Name  Price  Shares        Date  Profit\n",
      "1  Dove   23.5      40  2017-05-03   940.0\n",
      "2  Spam    7.2      20  2017-05-07   144.0\n",
      "3  Dove   21.4      32  2017-05-11   684.8\n"
     ]
    }
   ],
   "source": [
    "df = df[(df['Date'] >= '2017-05-01') & (df['Date'] < '2017-06-01')]   # filter by Dates\n",
    "df['Profit'] = df['Price'] * df['Shares']                             # compute Profit\n",
    "print(df)"
   ]
  },
  {
   "cell_type": "code",
   "execution_count": 11,
   "metadata": {
    "collapsed": false
   },
   "outputs": [
    {
     "name": "stdout",
     "output_type": "stream",
     "text": [
      "   Name  Price  Shares        Date  Profit    Net\n",
      "1  Dove   23.5      40  2017-05-03   940.0  930.0\n",
      "2  Spam    7.2      20  2017-05-07   144.0  134.0\n",
      "3  Dove   21.4      32  2017-05-11   684.8  674.8\n"
     ]
    }
   ],
   "source": [
    "fee = 10                      # define variable\n",
    "def net_profit(row):          # define method using external variable\n",
    "    return row['Price'] * row['Shares'] - fee\n",
    "\n",
    "df['Net'] = df.apply(net_profit, axis=1)  # apply method row-wise\n",
    "print(df)"
   ]
  },
  {
   "cell_type": "code",
   "execution_count": 12,
   "metadata": {
    "collapsed": false
   },
   "outputs": [
    {
     "name": "stdout",
     "output_type": "stream",
     "text": [
      "   Name  Price  Shares        Date  Profit    Net\n",
      "1  Dove   23.5      40  2017-05-03   940.0  920.0\n",
      "2  Spam    7.2      20  2017-05-07   144.0  124.0\n",
      "3  Dove   21.4      32  2017-05-11   684.8  664.8\n"
     ]
    }
   ],
   "source": [
    "def get_net_profit(fee):                # define a method that returns another method\n",
    "    def calc_net_profit(row):\n",
    "        return row['Price'] * row['Shares'] - fee\n",
    "    return calc_net_profit\n",
    "\n",
    "net_profit = get_net_profit(fee=20)     # get method with parameter defined on-the-fly\n",
    "\n",
    "df['Net'] = df.apply(net_profit, axis=1)  # apply method row-wise\n",
    "print(df)"
   ]
  },
  {
   "cell_type": "code",
   "execution_count": 13,
   "metadata": {
    "collapsed": false
   },
   "outputs": [
    {
     "name": "stdout",
     "output_type": "stream",
     "text": [
      "   Name  Price  Shares        Date  Profit    Net\n",
      "1  Dove   23.5      40  2017-05-03   940.0  920.0\n",
      "2  Spam    7.2      20  2017-05-07   144.0  124.0\n",
      "3  Dove   21.4      32  2017-05-11   684.8  664.8\n"
     ]
    }
   ],
   "source": [
    "df['Net'] = df['Price'] * df['Shares'] - 20   # in simple cases you don't need a lambda\n",
    "print(df)                                     # if it's all numpy array math operations"
   ]
  },
  {
   "cell_type": "code",
   "execution_count": 14,
   "metadata": {
    "collapsed": false
   },
   "outputs": [
    {
     "name": "stdout",
     "output_type": "stream",
     "text": [
      "      Shares     Net\n",
      "Name                \n",
      "Dove      72  1584.8\n",
      "Spam      20   124.0\n"
     ]
    }
   ],
   "source": [
    "df2 = df.groupby('Name').agg(np.sum)  # group by Name and apply sum aggregate method\n",
    "df2 = df2[['Shares', 'Net']]          # filter total Shares sold and Net profit\n",
    "print(df2)"
   ]
  },
  {
   "cell_type": "code",
   "execution_count": 15,
   "metadata": {
    "collapsed": false
   },
   "outputs": [
    {
     "name": "stdout",
     "output_type": "stream",
     "text": [
      "     Shares         Net     \n",
      "        sum max     sum  max\n",
      "Name                        \n",
      "Dove     72  40  1584.8  920\n",
      "Spam     20  20   124.0  124\n"
     ]
    }
   ],
   "source": [
    "df2 = df.groupby('Name').agg([np.sum, max])  # apply sum and msx aggregate methods\n",
    "df2 = df2[['Shares', 'Net']]                 # filter total and max Shares and Net profit\n",
    "print(df2)"
   ]
  },
  {
   "cell_type": "markdown",
   "metadata": {},
   "source": [
    "See the [Pandas groupby docs](https://pandas.pydata.org/pandas-docs/stable/groupby.html) for more details.  \n",
    "\n",
    "This is a brief introduction to what Pandas can do.  For more details, see Wes' book, especially Chapter 9 to learn more about aggregation and groupby operations."
   ]
  },
  {
   "cell_type": "code",
   "execution_count": null,
   "metadata": {
    "collapsed": true
   },
   "outputs": [],
   "source": []
  }
 ],
 "metadata": {
  "kernelspec": {
   "display_name": "Python 3",
   "language": "python",
   "name": "python3"
  },
  "language_info": {
   "codemirror_mode": {
    "name": "ipython",
    "version": 3
   },
   "file_extension": ".py",
   "mimetype": "text/x-python",
   "name": "python",
   "nbconvert_exporter": "python",
   "pygments_lexer": "ipython3",
   "version": "3.5.2"
  }
 },
 "nbformat": 4,
 "nbformat_minor": 0
}
