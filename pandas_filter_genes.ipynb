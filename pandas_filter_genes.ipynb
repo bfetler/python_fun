{
 "cells": [
  {
   "cell_type": "markdown",
   "metadata": {},
   "source": [
    "For reference, see the [Pandas website](http://pandas.pydata.org/) and the book *'Python for Data Analysis'* by Wes McKinney."
   ]
  },
  {
   "cell_type": "code",
   "execution_count": 1,
   "metadata": {
    "collapsed": true
   },
   "outputs": [],
   "source": [
    "import pandas as pd"
   ]
  },
  {
   "cell_type": "markdown",
   "metadata": {},
   "source": [
    "__*Question:*__ Given a dataframe with\n",
    "+ rows of genes\n",
    "+ columns of molecules\n",
    "+ values of gene-molecule interaction\n",
    "\n",
    "How can I find pairs of columns and rows that pass a certain filter condition?"
   ]
  },
  {
   "cell_type": "code",
   "execution_count": 2,
   "metadata": {
    "collapsed": true
   },
   "outputs": [],
   "source": [
    "def get_gene_df():\n",
    "    \"get gene dataframe\"\n",
    "    df = pd.DataFrame([[1.1, 2.3, 3.4], \n",
    "                       [1.9, 2.8, 2.1], \n",
    "                       [2.9, 3.4, 5.7], \n",
    "                       [3.6, 1.9, 2.1]\n",
    "                      ])\n",
    "    df.columns = ['molA', 'molB', 'molC']\n",
    "    df.index = ['gene1', 'gene2', 'gene3', 'gene4']\n",
    "    return df"
   ]
  },
  {
   "cell_type": "code",
   "execution_count": 3,
   "metadata": {
    "collapsed": true
   },
   "outputs": [],
   "source": [
    "def filter_picture(df, expr):\n",
    "    \"\"\" create dataframe picture from filter expression\n",
    "        example expr: lambda x: x>3\n",
    "    \"\"\"\n",
    "    df2 = df.copy()\n",
    "    for col in df2.columns:\n",
    "        df2[col] = df2[col].apply(lambda y: 'o' if expr(y) else '')\n",
    "    return df2"
   ]
  },
  {
   "cell_type": "code",
   "execution_count": 4,
   "metadata": {
    "collapsed": true
   },
   "outputs": [],
   "source": [
    "def filter_row_column(df, expr):\n",
    "    \"\"\" filter dataframe df using expression expr\n",
    "        example expr: lambda x: x>3\n",
    "        return columns and rows that satisfy expression\n",
    "    \"\"\"\n",
    "    out = []\n",
    "    for col in df.columns:\n",
    "        ser = df[col]               # series is dataframe column\n",
    "        ser = ser[ser.apply(expr)]  # filter series by expr\n",
    "        for row in ser.index:\n",
    "            out.append((col, row))    # append (column, row) tuple\n",
    "    return out"
   ]
  },
  {
   "cell_type": "code",
   "execution_count": 5,
   "metadata": {
    "collapsed": false
   },
   "outputs": [
    {
     "name": "stdout",
     "output_type": "stream",
     "text": [
      "df input:\n",
      "       molA  molB  molC\n",
      "gene1   1.1   2.3   3.4\n",
      "gene2   1.9   2.8   2.1\n",
      "gene3   2.9   3.4   5.7\n",
      "gene4   3.6   1.9   2.1\n"
     ]
    }
   ],
   "source": [
    "df = get_gene_df()\n",
    "print('df input:\\n%s' % df)"
   ]
  },
  {
   "cell_type": "code",
   "execution_count": 6,
   "metadata": {
    "collapsed": false
   },
   "outputs": [
    {
     "name": "stdout",
     "output_type": "stream",
     "text": [
      "\n",
      "dataframe, genes > 3:\n",
      "      molA molB molC\n",
      "gene1              o\n",
      "gene2               \n",
      "gene3         o    o\n",
      "gene4    o          \n",
      "\n",
      "filter output: [('molA', 'gene4'), ('molB', 'gene3'), ('molC', 'gene1'), ('molC', 'gene3')]\n"
     ]
    }
   ],
   "source": [
    "df2 = filter_picture(df, lambda x: x>3)\n",
    "print('\\ndataframe, genes > 3:\\n%s' % df2)\n",
    "out = filter_row_column(df, lambda x: x>3)\n",
    "print('\\nfilter output: %s' % out)"
   ]
  },
  {
   "cell_type": "code",
   "execution_count": 7,
   "metadata": {
    "collapsed": false
   },
   "outputs": [
    {
     "name": "stdout",
     "output_type": "stream",
     "text": [
      "\n",
      "dataframe, genes > 2.2:\n",
      "      molA molB molC\n",
      "gene1         o    o\n",
      "gene2         o     \n",
      "gene3    o    o    o\n",
      "gene4    o          \n",
      "\n",
      "filter output: [('molA', 'gene3'), ('molA', 'gene4'), ('molB', 'gene1'), ('molB', 'gene2'), ('molB', 'gene3'), ('molC', 'gene1'), ('molC', 'gene3')]\n"
     ]
    }
   ],
   "source": [
    "df2 = filter_picture(df, lambda x: x>2.2)\n",
    "print('\\ndataframe, genes > 2.2:\\n%s' % df2)\n",
    "out = filter_row_column(df, lambda x: x>2.2)\n",
    "print('\\nfilter output: %s' % out)"
   ]
  },
  {
   "cell_type": "code",
   "execution_count": 8,
   "metadata": {
    "collapsed": true
   },
   "outputs": [],
   "source": [
    "import seaborn as sns\n",
    "%matplotlib inline"
   ]
  },
  {
   "cell_type": "code",
   "execution_count": 9,
   "metadata": {
    "collapsed": false
   },
   "outputs": [
    {
     "data": {
      "text/plain": [
       "<matplotlib.axes._subplots.AxesSubplot at 0x1135d7518>"
      ]
     },
     "execution_count": 9,
     "metadata": {},
     "output_type": "execute_result"
    },
    {
     "data": {
      "image/png": "[encoded data removed]",
      "text/plain": [
       "<matplotlib.figure.Figure at 0x113502b70>"
      ]
     },
     "metadata": {},
     "output_type": "display_data"
    }
   ],
   "source": [
    "# plot seaborn heatmap \n",
    "sns.heatmap(df, cmap='RdYlGn_r', annot=True)"
   ]
  },
  {
   "cell_type": "code",
   "execution_count": null,
   "metadata": {
    "collapsed": true
   },
   "outputs": [],
   "source": []
  }
 ],
 "metadata": {
  "kernelspec": {
   "display_name": "Python 3",
   "language": "python",
   "name": "python3"
  },
  "language_info": {
   "codemirror_mode": {
    "name": "ipython",
    "version": 3
   },
   "file_extension": ".py",
   "mimetype": "text/x-python",
   "name": "python",
   "nbconvert_exporter": "python",
   "pygments_lexer": "ipython3",
   "version": "3.5.2"
  }
 },
 "nbformat": 4,
 "nbformat_minor": 0
}
