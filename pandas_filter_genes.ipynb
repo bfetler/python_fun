{
 "cells": [
  {
   "cell_type": "code",
   "execution_count": 1,
   "metadata": {
    "collapsed": true
   },
   "outputs": [],
   "source": [
    "import pandas as pd"
   ]
  },
  {
   "cell_type": "code",
   "execution_count": 2,
   "metadata": {
    "collapsed": true
   },
   "outputs": [],
   "source": [
    "def get_gene_df():\n",
    "    \"get gene dataframe\"\n",
    "    df = pd.DataFrame([[1.1, 2.3, 3.4], [1.9, 3.8, 2.1], [2.9, 4.8, 5.7]])\n",
    "    df.columns = ['molA', 'molB', 'molC']\n",
    "    df.index = ['gene1', 'gene2', 'gene3']\n",
    "    return df"
   ]
  },
  {
   "cell_type": "code",
   "execution_count": 3,
   "metadata": {
    "collapsed": true
   },
   "outputs": [],
   "source": [
    "def filter_picture(df, expr):\n",
    "    \"\"\" create dataframe picture from filter expression\n",
    "        example expr: lambda x: x>3\n",
    "    \"\"\"\n",
    "    df2 = df.copy()\n",
    "    for col in df2.columns:\n",
    "        df2[col] = df2[col].apply(lambda y: 'o' if expr(y) else '')\n",
    "    return df2"
   ]
  },
  {
   "cell_type": "code",
   "execution_count": 4,
   "metadata": {
    "collapsed": true
   },
   "outputs": [],
   "source": [
    "def filter_row_column(df, expr):\n",
    "    \"\"\" filter dataframe df using expression expr\n",
    "        example expr: lambda x: x>3\n",
    "        return columns and rows that satisfy expression\n",
    "    \"\"\"\n",
    "    out = []\n",
    "    for col in df.columns:\n",
    "        ser = df[col]               # series is dataframe column\n",
    "        ser = ser[ser.apply(expr)]  # filter series by expr\n",
    "        for j in ser.index:\n",
    "            out.append((col, j))    # append (column, row) tuple\n",
    "    return out"
   ]
  },
  {
   "cell_type": "code",
   "execution_count": 5,
   "metadata": {
    "collapsed": false
   },
   "outputs": [
    {
     "name": "stdout",
     "output_type": "stream",
     "text": [
      "df input:\n",
      "       molA  molB  molC\n",
      "gene1   1.1   2.3   3.4\n",
      "gene2   1.9   3.8   2.1\n",
      "gene3   2.9   4.8   5.7\n"
     ]
    }
   ],
   "source": [
    "df = get_gene_df()\n",
    "print('df input:\\n%s' % df)"
   ]
  },
  {
   "cell_type": "code",
   "execution_count": 6,
   "metadata": {
    "collapsed": false
   },
   "outputs": [
    {
     "name": "stdout",
     "output_type": "stream",
     "text": [
      "\n",
      "dataframe, genes > 3:\n",
      "      molA molB molC\n",
      "gene1              o\n",
      "gene2         o     \n",
      "gene3         o    o\n",
      "\n",
      "filter output: [('molB', 'gene2'), ('molB', 'gene3'), ('molC', 'gene1'), ('molC', 'gene3')]\n"
     ]
    }
   ],
   "source": [
    "df2 = filter_picture(df, lambda x: x>3)\n",
    "print('\\ndataframe, genes > 3:\\n%s' % df2)\n",
    "out = filter_row_column(df, lambda x: x>3)\n",
    "print('\\nfilter output: %s' % out)"
   ]
  },
  {
   "cell_type": "code",
   "execution_count": 7,
   "metadata": {
    "collapsed": false
   },
   "outputs": [
    {
     "name": "stdout",
     "output_type": "stream",
     "text": [
      "\n",
      "dataframe, genes > 2.2:\n",
      "      molA molB molC\n",
      "gene1         o    o\n",
      "gene2         o     \n",
      "gene3    o    o    o\n",
      "\n",
      "filter output: [('molA', 'gene3'), ('molB', 'gene1'), ('molB', 'gene2'), ('molB', 'gene3'), ('molC', 'gene1'), ('molC', 'gene3')]\n"
     ]
    }
   ],
   "source": [
    "df2 = filter_picture(df, lambda x: x>2.2)\n",
    "print('\\ndataframe, genes > 2.2:\\n%s' % df2)\n",
    "out = filter_row_column(df, lambda x: x>2.2)\n",
    "print('\\nfilter output: %s' % out)"
   ]
  },
  {
   "cell_type": "code",
   "execution_count": null,
   "metadata": {
    "collapsed": true
   },
   "outputs": [],
   "source": []
  }
 ],
 "metadata": {
  "kernelspec": {
   "display_name": "Python 3",
   "language": "python",
   "name": "python3"
  },
  "language_info": {
   "codemirror_mode": {
    "name": "ipython",
    "version": 3
   },
   "file_extension": ".py",
   "mimetype": "text/x-python",
   "name": "python",
   "nbconvert_exporter": "python",
   "pygments_lexer": "ipython3",
   "version": "3.5.2"
  }
 },
 "nbformat": 4,
 "nbformat_minor": 0
}
